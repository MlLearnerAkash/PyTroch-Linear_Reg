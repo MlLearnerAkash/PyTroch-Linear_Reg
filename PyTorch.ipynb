{
  "nbformat": 4,
  "nbformat_minor": 0,
  "metadata": {
    "colab": {
      "name": "PyTorch.ipynb",
      "provenance": [],
      "collapsed_sections": []
    },
    "kernelspec": {
      "name": "python3",
      "display_name": "Python 3"
    },
    "language_info": {
      "name": "python"
    }
  },
  "cells": [
    {
      "cell_type": "code",
      "metadata": {
        "id": "NZlxDA6uLeX_"
      },
      "source": [
        "import torch "
      ],
      "execution_count": 296,
      "outputs": []
    },
    {
      "cell_type": "code",
      "metadata": {
        "id": "xBpEDMezLicr"
      },
      "source": [
        "#importing important libraries.\n",
        "import numpy as np # for linear algebric operations.\n",
        "import matplotlib.pyplot as plt #for making figure instances\n",
        "import seaborn as sns # for stastical analysis\n"
      ],
      "execution_count": 297,
      "outputs": []
    },
    {
      "cell_type": "code",
      "metadata": {
        "id": "UoTlFKWZLpjJ"
      },
      "source": [
        "# making a dataset having 2 features and 1 features.\n",
        "from sklearn import datasets\n",
        "x1,y1=datasets.make_regression(n_samples=100,n_features=1)"
      ],
      "execution_count": 298,
      "outputs": []
    },
    {
      "cell_type": "code",
      "metadata": {
        "colab": {
          "base_uri": "https://localhost:8080/"
        },
        "id": "bUby2mdDgfc1",
        "outputId": "70733064-89c4-455f-ff27-c71d975b65b3"
      },
      "source": [
        "x1.shape"
      ],
      "execution_count": 299,
      "outputs": [
        {
          "output_type": "execute_result",
          "data": {
            "text/plain": [
              "(100, 1)"
            ]
          },
          "metadata": {
            "tags": []
          },
          "execution_count": 299
        }
      ]
    },
    {
      "cell_type": "code",
      "metadata": {
        "colab": {
          "base_uri": "https://localhost:8080/"
        },
        "id": "IRxTw-IddDlp",
        "outputId": "5dbe1c57-3d25-48ff-e35b-09dbd69f0642"
      },
      "source": [
        "y1.shape # y1 does  have only 1 dimension .It is a vannila list."
      ],
      "execution_count": 318,
      "outputs": [
        {
          "output_type": "execute_result",
          "data": {
            "text/plain": [
              "(100,)"
            ]
          },
          "metadata": {
            "tags": []
          },
          "execution_count": 318
        }
      ]
    },
    {
      "cell_type": "code",
      "metadata": {
        "colab": {
          "base_uri": "https://localhost:8080/"
        },
        "id": "Yy5dJ9yVWQiy",
        "outputId": "2dd2e4e1-c19c-41d0-953b-1402bc15fc5b"
      },
      "source": [
        "y1[0:9] # first 9 values of y1"
      ],
      "execution_count": 320,
      "outputs": [
        {
          "output_type": "execute_result",
          "data": {
            "text/plain": [
              "array([  -5.68701116,   -7.24371146,  -42.32283881,  -46.83230557,\n",
              "       -105.20875983,  -23.18192224,  -29.528012  ,  -34.38423777,\n",
              "         -8.23445676])"
            ]
          },
          "metadata": {
            "tags": []
          },
          "execution_count": 320
        }
      ]
    },
    {
      "cell_type": "code",
      "metadata": {
        "id": "uKY2lGzGdJ0x"
      },
      "source": [
        "x=torch.from_numpy(x1.astype(np.float32)) # making x1 into a tensor of (100,1) dimension and the value will be in float32 format.\n",
        "y=torch.from_numpy(y1.astype(np.float32)) # y1 is transformed into a tensor of dimension of (100,1).It is a mere list."
      ],
      "execution_count": 301,
      "outputs": []
    },
    {
      "cell_type": "code",
      "metadata": {
        "colab": {
          "base_uri": "https://localhost:8080/"
        },
        "id": "Vp_CwjwgeTQe",
        "outputId": "aae054dc-3f25-4cc7-c701-d96e2669e399"
      },
      "source": [
        "x.shape"
      ],
      "execution_count": 302,
      "outputs": [
        {
          "output_type": "execute_result",
          "data": {
            "text/plain": [
              "torch.Size([100, 1])"
            ]
          },
          "metadata": {
            "tags": []
          },
          "execution_count": 302
        }
      ]
    },
    {
      "cell_type": "code",
      "metadata": {
        "colab": {
          "base_uri": "https://localhost:8080/"
        },
        "id": "lfwnWV2TILST",
        "outputId": "696b4020-8f1d-4b14-eb0e-d0d09bdfd0ee"
      },
      "source": [
        "x"
      ],
      "execution_count": 303,
      "outputs": [
        {
          "output_type": "execute_result",
          "data": {
            "text/plain": [
              "tensor([[-0.1287],\n",
              "        [-0.1639],\n",
              "        [-0.9577],\n",
              "        [-1.0597],\n",
              "        [-2.3807],\n",
              "        [-0.5246],\n",
              "        [-0.6682],\n",
              "        [-0.7781],\n",
              "        [-0.1863],\n",
              "        [-1.2150],\n",
              "        [-0.2978],\n",
              "        [-0.2967],\n",
              "        [-0.1276],\n",
              "        [ 0.3416],\n",
              "        [-0.9237],\n",
              "        [-0.1744],\n",
              "        [ 0.4142],\n",
              "        [ 2.1792],\n",
              "        [ 0.1691],\n",
              "        [-0.5748],\n",
              "        [-1.0376],\n",
              "        [-0.6401],\n",
              "        [ 0.4564],\n",
              "        [-0.6175],\n",
              "        [ 2.4941],\n",
              "        [ 0.7467],\n",
              "        [ 0.1208],\n",
              "        [-0.0945],\n",
              "        [-0.4650],\n",
              "        [ 1.3124],\n",
              "        [ 2.1652],\n",
              "        [-0.2155],\n",
              "        [-0.7593],\n",
              "        [-0.8574],\n",
              "        [-0.0468],\n",
              "        [ 0.8042],\n",
              "        [-0.4197],\n",
              "        [-0.6603],\n",
              "        [ 0.8822],\n",
              "        [ 0.0791],\n",
              "        [ 0.6619],\n",
              "        [-0.5397],\n",
              "        [ 0.2885],\n",
              "        [ 0.1621],\n",
              "        [ 1.6873],\n",
              "        [ 1.9842],\n",
              "        [-1.1105],\n",
              "        [-0.5379],\n",
              "        [-0.4815],\n",
              "        [-0.3934],\n",
              "        [-1.1984],\n",
              "        [ 1.0096],\n",
              "        [ 0.9786],\n",
              "        [ 0.3631],\n",
              "        [ 1.0806],\n",
              "        [ 0.6562],\n",
              "        [-2.3721],\n",
              "        [-0.0990],\n",
              "        [-1.9197],\n",
              "        [ 0.6771],\n",
              "        [ 2.0988],\n",
              "        [ 0.2002],\n",
              "        [-0.0527],\n",
              "        [-1.1748],\n",
              "        [-0.4588],\n",
              "        [ 0.0989],\n",
              "        [-0.0180],\n",
              "        [-0.8877],\n",
              "        [-2.5686],\n",
              "        [-1.8291],\n",
              "        [-0.5896],\n",
              "        [ 0.4503],\n",
              "        [-0.4582],\n",
              "        [ 0.9651],\n",
              "        [-2.1196],\n",
              "        [-1.0081],\n",
              "        [ 0.7368],\n",
              "        [ 1.7112],\n",
              "        [-0.0667],\n",
              "        [ 1.1180],\n",
              "        [ 0.3286],\n",
              "        [-0.4647],\n",
              "        [-1.0126],\n",
              "        [ 0.6486],\n",
              "        [-1.1934],\n",
              "        [ 0.3198],\n",
              "        [ 1.8956],\n",
              "        [-2.2792],\n",
              "        [-1.1865],\n",
              "        [-0.7130],\n",
              "        [-0.2651],\n",
              "        [-0.7735],\n",
              "        [ 0.9039],\n",
              "        [ 0.0190],\n",
              "        [-0.5858],\n",
              "        [ 0.3173],\n",
              "        [-1.0385],\n",
              "        [ 0.0665],\n",
              "        [-0.8401],\n",
              "        [ 0.3537]])"
            ]
          },
          "metadata": {
            "tags": []
          },
          "execution_count": 303
        }
      ]
    },
    {
      "cell_type": "code",
      "metadata": {
        "colab": {
          "base_uri": "https://localhost:8080/"
        },
        "id": "FNTKUGrEerG1",
        "outputId": "cada9e42-6ae2-45d2-ba30-11c64a3cd203"
      },
      "source": [
        "y"
      ],
      "execution_count": 304,
      "outputs": [
        {
          "output_type": "execute_result",
          "data": {
            "text/plain": [
              "tensor([  -5.6870,   -7.2437,  -42.3228,  -46.8323, -105.2088,  -23.1819,\n",
              "         -29.5280,  -34.3842,   -8.2345,  -53.6944,  -13.1625,  -13.1139,\n",
              "          -5.6372,   15.0943,  -40.8211,   -7.7062,   18.3057,   96.3044,\n",
              "           7.4708,  -25.4008,  -45.8516,  -28.2886,   20.1693,  -27.2887,\n",
              "         110.2196,   32.9987,    5.3366,   -4.1768,  -20.5514,   57.9997,\n",
              "          95.6864,   -9.5249,  -33.5548,  -37.8883,   -2.0660,   35.5412,\n",
              "         -18.5464,  -29.1781,   38.9859,    3.4952,   29.2503,  -23.8513,\n",
              "          12.7489,    7.1639,   74.5668,   87.6877,  -49.0756,  -23.7729,\n",
              "         -21.2807,  -17.3844,  -52.9614,   44.6167,   43.2484,   16.0460,\n",
              "          47.7545,   28.9997, -104.8282,   -4.3769,  -84.8343,   29.9214,\n",
              "          92.7508,    8.8460,   -2.3289,  -51.9189,  -20.2733,    4.3692,\n",
              "          -0.7951,  -39.2278, -113.5104,  -80.8305,  -26.0544,   19.8992,\n",
              "         -20.2488,   42.6496,  -93.6694,  -44.5481,   32.5592,   75.6229,\n",
              "          -2.9471,   49.4060,   14.5210,  -20.5377,  -44.7482,   28.6609,\n",
              "         -52.7389,   14.1328,   83.7726, -100.7219,  -52.4332,  -31.5109,\n",
              "         -11.7135,  -34.1842,   39.9437,    0.8403,  -25.8879,   14.0217,\n",
              "         -45.8920,    2.9400,  -37.1257,   15.6298])"
            ]
          },
          "metadata": {
            "tags": []
          },
          "execution_count": 304
        }
      ]
    },
    {
      "cell_type": "code",
      "metadata": {
        "colab": {
          "base_uri": "https://localhost:8080/"
        },
        "id": "y3ipWadSTsDI",
        "outputId": "93ac2b1f-f3a4-4f2c-aa62-51dded0fa2c2"
      },
      "source": [
        "y.shape[0]"
      ],
      "execution_count": 305,
      "outputs": [
        {
          "output_type": "execute_result",
          "data": {
            "text/plain": [
              "100"
            ]
          },
          "metadata": {
            "tags": []
          },
          "execution_count": 305
        }
      ]
    },
    {
      "cell_type": "markdown",
      "metadata": {
        "id": "ovKb4DUphZ4p"
      },
      "source": [
        "Now, y is stored in a one row.It has to be a column vector"
      ]
    },
    {
      "cell_type": "code",
      "metadata": {
        "colab": {
          "base_uri": "https://localhost:8080/"
        },
        "id": "4CqaOgY0hQYP",
        "outputId": "21c2fb44-2441-4376-be63-ac8bb9616464"
      },
      "source": [
        "y"
      ],
      "execution_count": 306,
      "outputs": [
        {
          "output_type": "execute_result",
          "data": {
            "text/plain": [
              "tensor([  -5.6870,   -7.2437,  -42.3228,  -46.8323, -105.2088,  -23.1819,\n",
              "         -29.5280,  -34.3842,   -8.2345,  -53.6944,  -13.1625,  -13.1139,\n",
              "          -5.6372,   15.0943,  -40.8211,   -7.7062,   18.3057,   96.3044,\n",
              "           7.4708,  -25.4008,  -45.8516,  -28.2886,   20.1693,  -27.2887,\n",
              "         110.2196,   32.9987,    5.3366,   -4.1768,  -20.5514,   57.9997,\n",
              "          95.6864,   -9.5249,  -33.5548,  -37.8883,   -2.0660,   35.5412,\n",
              "         -18.5464,  -29.1781,   38.9859,    3.4952,   29.2503,  -23.8513,\n",
              "          12.7489,    7.1639,   74.5668,   87.6877,  -49.0756,  -23.7729,\n",
              "         -21.2807,  -17.3844,  -52.9614,   44.6167,   43.2484,   16.0460,\n",
              "          47.7545,   28.9997, -104.8282,   -4.3769,  -84.8343,   29.9214,\n",
              "          92.7508,    8.8460,   -2.3289,  -51.9189,  -20.2733,    4.3692,\n",
              "          -0.7951,  -39.2278, -113.5104,  -80.8305,  -26.0544,   19.8992,\n",
              "         -20.2488,   42.6496,  -93.6694,  -44.5481,   32.5592,   75.6229,\n",
              "          -2.9471,   49.4060,   14.5210,  -20.5377,  -44.7482,   28.6609,\n",
              "         -52.7389,   14.1328,   83.7726, -100.7219,  -52.4332,  -31.5109,\n",
              "         -11.7135,  -34.1842,   39.9437,    0.8403,  -25.8879,   14.0217,\n",
              "         -45.8920,    2.9400,  -37.1257,   15.6298])"
            ]
          },
          "metadata": {
            "tags": []
          },
          "execution_count": 306
        }
      ]
    },
    {
      "cell_type": "code",
      "metadata": {
        "id": "8QNcvxQRhWie"
      },
      "source": [
        "y=y.view(y.shape[0] , 1) # reshape the y tensor into a column vector having 100 rows and 1 column"
      ],
      "execution_count": 307,
      "outputs": []
    },
    {
      "cell_type": "code",
      "metadata": {
        "colab": {
          "base_uri": "https://localhost:8080/"
        },
        "id": "DI7nIjuUhwfs",
        "outputId": "64f58951-39f2-43c1-b28d-adb31decb177"
      },
      "source": [
        "y[0:5]"
      ],
      "execution_count": 308,
      "outputs": [
        {
          "output_type": "execute_result",
          "data": {
            "text/plain": [
              "tensor([[  -5.6870],\n",
              "        [  -7.2437],\n",
              "        [ -42.3228],\n",
              "        [ -46.8323],\n",
              "        [-105.2088]])"
            ]
          },
          "metadata": {
            "tags": []
          },
          "execution_count": 308
        }
      ]
    },
    {
      "cell_type": "code",
      "metadata": {
        "id": "C_x6YoRSh0_8"
      },
      "source": [
        "n_samples,n_features=x.shape"
      ],
      "execution_count": 309,
      "outputs": []
    },
    {
      "cell_type": "code",
      "metadata": {
        "colab": {
          "base_uri": "https://localhost:8080/"
        },
        "id": "cjC6GN7vKF7v",
        "outputId": "b850de28-6518-4bc6-8181-9c7c560a20f4"
      },
      "source": [
        "n_features"
      ],
      "execution_count": 310,
      "outputs": [
        {
          "output_type": "execute_result",
          "data": {
            "text/plain": [
              "1"
            ]
          },
          "metadata": {
            "tags": []
          },
          "execution_count": 310
        }
      ]
    },
    {
      "cell_type": "markdown",
      "metadata": {
        "id": "TNx3b_cyifvO"
      },
      "source": [
        "# Building the model"
      ]
    },
    {
      "cell_type": "code",
      "metadata": {
        "id": "HzMMW6nEidKz"
      },
      "source": [
        "import torch.nn as nn"
      ],
      "execution_count": 311,
      "outputs": []
    },
    {
      "cell_type": "code",
      "metadata": {
        "id": "FdkbRJnCirOq"
      },
      "source": [
        "input_size = n_features\n",
        "output_size = 1"
      ],
      "execution_count": 312,
      "outputs": []
    },
    {
      "cell_type": "code",
      "metadata": {
        "id": "vJLhOVUAjiG3"
      },
      "source": [
        "model = nn.Linear(input_size , output_size)\n"
      ],
      "execution_count": 313,
      "outputs": []
    },
    {
      "cell_type": "markdown",
      "metadata": {
        "id": "_2hckM8KlH-w"
      },
      "source": [
        "# Loss and Optimizer"
      ]
    },
    {
      "cell_type": "code",
      "metadata": {
        "id": "8KEh8ZD1lEpW"
      },
      "source": [
        "criterion = nn.MSELoss()\n",
        "optimizer=torch.optim.SGD(model.parameters() , lr = 0.01)\n",
        "\n"
      ],
      "execution_count": 314,
      "outputs": []
    },
    {
      "cell_type": "markdown",
      "metadata": {
        "id": "UqIo-6C9luVt"
      },
      "source": [
        "#Training Loop"
      ]
    },
    {
      "cell_type": "code",
      "metadata": {
        "colab": {
          "base_uri": "https://localhost:8080/",
          "height": 537
        },
        "id": "228l-1cQltN5",
        "outputId": "2d5911e8-045d-40a9-b723-987d4603c212"
      },
      "source": [
        "num_epochs=150\n",
        "for epoch in range(num_epochs):\n",
        "  #forward pass\n",
        "  y_predicted = model(x)\n",
        "  loss=criterion(y_predicted,y)\n",
        "\n",
        "  #Backward propagation\n",
        "  loss.backward()\n",
        "  #update\n",
        "  optimizer.step()\n",
        "\n",
        "  optimizer.zero_grad() # to clear the current gradient.\n",
        "\n",
        "  if (epoch+1)%10 ==0:\n",
        "    print('for epoch',(epoch+1),'the loss value is: ',(loss.item()))\n",
        "#plot\n",
        "predicted=model(x).detach().numpy()\n",
        "plt.plot(x1,y1,'ro')\n",
        "plt.plot(x1,predicted,'b')\n",
        "plt.show()"
      ],
      "execution_count": 315,
      "outputs": [
        {
          "output_type": "stream",
          "text": [
            "for epoch 10 the loss value is:  1348.745361328125\n",
            "for epoch 20 the loss value is:  872.1715698242188\n",
            "for epoch 30 the loss value is:  565.4437866210938\n",
            "for epoch 40 the loss value is:  367.5585021972656\n",
            "for epoch 50 the loss value is:  239.5751953125\n",
            "for epoch 60 the loss value is:  156.58786010742188\n",
            "for epoch 70 the loss value is:  102.63424682617188\n",
            "for epoch 80 the loss value is:  67.46127319335938\n",
            "for epoch 90 the loss value is:  44.467960357666016\n",
            "for epoch 100 the loss value is:  29.394533157348633\n",
            "for epoch 110 the loss value is:  19.4851131439209\n",
            "for epoch 120 the loss value is:  12.95201301574707\n",
            "for epoch 130 the loss value is:  8.632740020751953\n",
            "for epoch 140 the loss value is:  5.7690558433532715\n",
            "for epoch 150 the loss value is:  3.8651821613311768\n"
          ],
          "name": "stdout"
        },
        {
          "output_type": "display_data",
          "data": {
            "image/png": "[encoded data removed]",
            "text/plain": [
              "<Figure size 432x288 with 1 Axes>"
            ]
          },
          "metadata": {
            "tags": [],
            "needs_background": "light"
          }
        }
      ]
    },
    {
      "cell_type": "markdown",
      "metadata": {
        "id": "UeDYtt9fYrpi"
      },
      "source": [
        "# Conclusion"
      ]
    },
    {
      "cell_type": "markdown",
      "metadata": {
        "id": "-8LKBJvKYugh"
      },
      "source": [
        "The model has a pretty good best fit line. As, the los in decreasing as epochs goes,$\\implies$ the model is being trained."
      ]
    },
    {
      "cell_type": "code",
      "metadata": {
        "id": "GXOabQMYwKqy"
      },
      "source": [
        ""
      ],
      "execution_count": 315,
      "outputs": []
    }
  ]
}